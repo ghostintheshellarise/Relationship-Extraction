{
 "cells": [
  {
   "cell_type": "markdown",
   "id": "6d32b763",
   "metadata": {},
   "source": [
    "# Relationship Extraction - Directed"
   ]
  },
  {
   "cell_type": "raw",
   "id": "ff870f7c",
   "metadata": {},
   "source": [
    "This notebook is to demonstrate how to uncover a directed relationship from a sentence between entities and establish a causal direction."
   ]
  },
  {
   "cell_type": "markdown",
   "id": "d30261a2",
   "metadata": {},
   "source": [
    "### Setup "
   ]
  },
  {
   "cell_type": "code",
   "execution_count": 1,
   "id": "84aa7df7",
   "metadata": {},
   "outputs": [],
   "source": [
    "import networkx as nx\n",
    "import time\n",
    "import matplotlib.pyplot as plt\n",
    "import pandas as pd\n",
    "import numpy as np\n",
    "import stanza\n",
    "import math\n",
    "import random\n",
    "from itertools import combinations, product\n",
    "%matplotlib inline"
   ]
  },
  {
   "cell_type": "code",
   "execution_count": 2,
   "id": "8f25cca9",
   "metadata": {},
   "outputs": [
    {
     "name": "stdout",
     "output_type": "stream",
     "text": [
      "In contrast, the product of the human CDKN2A beta transcript, p14ARF, activates a p53 response manifest in elevated levels of MDM2 and p21CIP1 and cell cycle arrest in both G1 and G2/M. 32\n"
     ]
    }
   ],
   "source": [
    "# A sample sentence from biomedical domain is used to demonstrate the approach\n",
    "sent = 'In contrast, the product of the human CDKN2A beta transcript, p14ARF, activates a p53 response manifest in elevated levels of MDM2 and p21CIP1 and cell cycle arrest in both G1 and G2/M.'\n",
    "print (sent, len(sent.split(' ')))"
   ]
  },
  {
   "cell_type": "markdown",
   "id": "8adaa0c1",
   "metadata": {},
   "source": [
    "### Helper Functions "
   ]
  },
  {
   "cell_type": "code",
   "execution_count": 3,
   "id": "eb4e4002",
   "metadata": {},
   "outputs": [],
   "source": [
    "# Collection of functions that help me process the raw text into a graph using the parsing result.\n",
    "def spanner(sentence, return_raw=False):\n",
    "    \"\"\" \n",
    "    recombine tokens into entity based on 'ner' indicator \n",
    "    input: a raw sentence\n",
    "    output: a stanza Doc object re-tokenized based on combination of terms that are biomedically relevant\n",
    "    \"\"\"\n",
    "    # Using stanford NLP developed Stanza to process the sentence\n",
    "    # bionlp13cg is a corpus used for NER task on biomedical related text\n",
    "    pretokenized_nlp = stanza.Pipeline('en', package='craft', processors={'ner': 'bionlp13cg'}, tokenize_pretokenized=True)\n",
    "    nlp = stanza.Pipeline('en', package='craft', processors={'ner':'bionlp13cg'})\n",
    "    \n",
    "    doc = nlp(sentence)\n",
    "    cur_ent = []\n",
    "    tokenized_sent = []\n",
    "    \n",
    "    # Recombine tokens based on NER result instead of raw tokens\n",
    "    for sent in doc.sentences:\n",
    "        for token in sent.tokens:\n",
    "            if (token.ner == \"O\" or token.ner.startswith('S-')):\n",
    "                tokenized_sent.append(token.text)\n",
    "            elif token.ner.startswith('B-') or token.ner.startswith('I-'):\n",
    "                cur_ent.append(token.text)\n",
    "            elif token.ner.startswith('E-'):\n",
    "                cur_ent.append(token.text)\n",
    "                new_span = ' '.join(cur_ent)\n",
    "                if ' - ' in new_span:\n",
    "                    new_span = new_span.replace(' - ','-')\n",
    "                tokenized_sent.append(new_span)\n",
    "                cur_ent = []\n",
    "            else:\n",
    "                pass\n",
    "    # control the return; whether to return a stanza doc object or raw text\n",
    "    if return_raw:\n",
    "        return tokenized_sent, len(tokenized_sent)\n",
    "    else:\n",
    "        retokenized_doc = pretokenized_nlp([tokenized_sent])\n",
    "        return retokenized_doc, len(tokenized_sent)\n",
    "    \n",
    "def consolidatedPassSpanner(doc):\n",
    "    \"\"\"\n",
    "    A custom built function to combine certain tokens together\n",
    "    Currently, there are two basic recombination rules\n",
    "    1. recombine two consecutive tokens that are both 'NOUN'\n",
    "    2. recombine two consecutive tokens that are part of the 'VERB' in passive voice\n",
    "    Input: a stanza doc\n",
    "    Output: a retokenized stanza doc\n",
    "    '\"\"\"\n",
    "    retokenized_txt = []\n",
    "    for sent in doc.sentences:\n",
    "        count = 0\n",
    "        while count < len(sent.words):\n",
    "            if count+1<len(sent.words) and (sent.words[count].upos == 'NOUN' and sent.words[count].xpos=='NN') and (sent.words[count+1].upos=='NOUN' and sent.words[count+1].xpos=='NN'):\n",
    "                retokenized_txt.append(' '.join([sent.words[count].text, sent.words[count+1].text]))\n",
    "                count +=2\n",
    "            elif count+1<len(sent.words) and sent.words[count].upos == 'AUX' and sent.words[count+1].upos=='VERB':\n",
    "                retokenized_txt.append(' '.join([sent.words[count].text, sent.words[count+1].text]))\n",
    "                count +=2\n",
    "            else:\n",
    "                retokenized_txt.append(sent.words[count].text)\n",
    "                count +=1\n",
    "    return retokenized_txt\n",
    "\n",
    "def dynamicReSpanner(doc, length):\n",
    "    \"\"\"\n",
    "    A custom built function to recombine tokens using function consolidatedPassSpanner.\n",
    "    This function will dynamically recombine the tokens based on its last POS tag until there is no\n",
    "    further feasible recombination.\n",
    "    \"\"\"\n",
    "    pretokenized_biomedicalnlp = stanza.Pipeline(lang='en', package='craft', processors={'ner': 'bionlp13cg'}, tokenize_pretokenized=True) \n",
    "    prev_size = length\n",
    "    while True:\n",
    "        pretokenized_sent = consolidatedPassSpanner(doc)\n",
    "        doc = pretokenized_biomedicalnlp([pretokenized_sent])\n",
    "        next_size = len([word.text for sent in doc.sentences for word in sent.words])\n",
    "        print ('Prev size: %i Vs. Next size %i' %(prev_size, next_size))\n",
    "        if next_size == prev_size:\n",
    "            break\n",
    "        else:\n",
    "            prev_size=next_size\n",
    "    return doc\n",
    "\n",
    "def spannerWrapper(sent):\n",
    "    \"\"\"\n",
    "    A function to combine the functions \"dynamicReSpanner\" and \"spanner\" to allow more complex operation\n",
    "    on the sentence\n",
    "    \"\"\"\n",
    "    doc_1, length = spanner(sent)\n",
    "    doc_2 = dynamicReSpanner(doc_1, length)\n",
    "    return doc_2\n",
    "\n",
    "def printDoc(doc):\n",
    "    print(*[f'id: {word.id}\\tword: {word.text.ljust(25, \" \")}\\tupos: {word.upos.ljust(6, \" \")}\\txpos: {word.xpos.ljust(6, \" \")}\\thead: {sent.words[word.head-1].text.ljust(15, \" \") if word.head > 0 else \"root\"}' for sent in doc.sentences for word in sent.words], sep='\\n')\n"
   ]
  },
  {
   "cell_type": "code",
   "execution_count": 4,
   "id": "280e5f32",
   "metadata": {},
   "outputs": [],
   "source": [
    "# Collection of functions that allows me to construct a graph representing the sentence structure\n",
    "def createTokenDiGraphwithContraction(doc):\n",
    "    g = nx.DiGraph()\n",
    "    # dependency chain that reflects the connection between words based on dependency parsing output\n",
    "    # https://stanfordnlp.github.io/stanza/depparse.html\n",
    "    # I am using the syntactic head of each word in a sentence and the dependency relation \n",
    "    # between the two words that are accessible through Word’s head and deprel attributes\n",
    "    # to construct the graph.\n",
    "    # In addition, I add a linear directed link between adjacent tokens to represent the sequence of tokens.\n",
    "    # Note: all node and edge weights are initiated with a value of 1.\n",
    "    \n",
    "    # Connection between token and its head\n",
    "    for sent in doc.sentences: \n",
    "        for word in sent.words:\n",
    "            tail = word.text\n",
    "            tail_dep = word.deprel\n",
    "            tail_nature = word.upos\n",
    "            head = sent.words[word.head-1].text\n",
    "            head_dep = sent.words[word.head-1].deprel\n",
    "            head_nature = sent.words[word.head-1].upos\n",
    "            g.add_node(head, deprel=head_dep, pos=head_nature, weight=1)\n",
    "            g.add_node(tail, deprel=tail_dep, pos=tail_nature, weight=1)\n",
    "            g.add_edge(head, tail, weight=1)\n",
    "    # linear chain that reflects the order of words in the sentence\n",
    "    for sent in doc.sentences: \n",
    "        for i in range(len(sent.words)-1):\n",
    "            g.add_edge(sent.words[i].text, sent.words[i+1].text, weight=1)\n",
    "    # Remove the end '#' if present and punctuation        \n",
    "    h = contract(g)\n",
    "    h = removePunct(h)\n",
    "    return h\n",
    "\n",
    "def contract(g):\n",
    "    # function to remove an '#' that indicates the end of a sentence\n",
    "    if '#' in g.nodes:\n",
    "        for n in g.neighbors('#'):\n",
    "            if g.nodes[n]['pos']=='VERB' or g.nodes[n]['pos']=='PART' or g.nodes[n]['pos']=='AUX' or g.nodes[n]['pos']=='NOUN' or g.nodes[n]['pos']=='PROPN':\n",
    "                h = nx.contracted_nodes(g, n, '#')\n",
    "                return h\n",
    "            else:\n",
    "                return g\n",
    "    else:\n",
    "        return g\n",
    "\n",
    "def removePunct(g):\n",
    "    # function to remove any punctuation that is not relevant to the explanation\n",
    "    nodes_lst = list(g.nodes)\n",
    "    for node in nodes_lst:\n",
    "        if g.nodes[node]['pos'] =='PUNCT':\n",
    "            g.remove_node(node)\n",
    "    return g\n",
    "\n",
    "def plot_network(graph):\n",
    "    # A simple function to plot the graph constructed by function \"createTokenDiGraphwithContraction\"\n",
    "    plt.figure(figsize=(20,20))\n",
    "    pos = nx.spring_layout(graph)\n",
    "    nx.draw_networkx_nodes(graph, pos, node_color='r')\n",
    "    nx.draw_networkx_labels(graph, pos, font_size = 14)\n",
    "    nx.draw_networkx_edges(graph, pos, edge_color='b')\n",
    "    plt.show()\n"
   ]
  },
  {
   "cell_type": "code",
   "execution_count": 5,
   "id": "12f043f0",
   "metadata": {},
   "outputs": [],
   "source": [
    "# Collection of functions to transverse the graph in order to collect information about the structure\n",
    "def updateNodeWt(G):\n",
    "    \"\"\"\n",
    "    A way to skew the walk towards a sequence of tokens that follow S-V-O in grammar\n",
    "    Input: a networkx Graph\n",
    "    Output: a networkx Graph with updated node weight\n",
    "    \"\"\"\n",
    "    pos = nx.get_node_attributes(G, 'pos')\n",
    "    for node, pos in pos.items():\n",
    "        if pos=='VERB' or node=='not':\n",
    "            G.nodes[node]['weight']=math.exp(2) # ~ 7.38905609893\n",
    "        elif pos=='NOUN':\n",
    "            G.nodes[node]['weight']=math.exp(1) # ~ 2.71828182846\n",
    "        else:\n",
    "            G.nodes[node]['weight']=math.exp(0) # = 1\n",
    "    return G\n",
    "\n",
    "def updateEntWt(G, doc):\n",
    "    \"\"\"\n",
    "    Input: a networkx Graph\n",
    "    Output: a networkx Graph with updated entity weight, replace the assignment under UpdateNodeWt() function\n",
    "    \"\"\"    \n",
    "    ents = [ent.text for sent in doc.sentences for ent in sent.ents if ent.type=='GENE_OR_GENE_PRODUCT']\n",
    "    print (ents)\n",
    "    for node in G.nodes():\n",
    "        if node in ents:\n",
    "            G.nodes[node]['weight']=math.exp(3) # ~ 20.0855369232\n",
    "    return G\n",
    "\n",
    "def updateEdgeWt(G):\n",
    "    \"\"\"\n",
    "    Input: a networkx Graph\n",
    "    Output: a networkx Graph with updated edge weight\n",
    "    \"\"\"    \n",
    "    edges = nx.get_edge_attributes(G, 'weight')\n",
    "    nodes = nx.get_node_attributes(G, 'weight')\n",
    "    for edge, weight in edges.items():\n",
    "        G.edges[edge]['weight'] = math.sqrt(nodes[edge[0]]*nodes[edge[1]])\n",
    "    return G\n",
    "\n",
    "def get_Weighted_Neighbours(G, node):\n",
    "    \"\"\" \n",
    "    Generate a list of neighbours of a node with its corresponding transition probability\n",
    "    i.e. Pr(token_next | token_curr)\n",
    "    \"\"\"\n",
    "    if node in G.nodes:\n",
    "        node_weights = nx.get_node_attributes(G, \"weight\")\n",
    "        \n",
    "        # Prepare neighbour list and obtain weight of each attribute for nodes and edges\n",
    "        edge_wgts = nx.get_edge_attributes(G, \"weight\")\n",
    "        node_neighbours = [adj_node for adj_node, datadict in G[node].items()]\n",
    "        self_node_wgt = np.array(len(node_neighbours))*node_weights[node]\n",
    "        neighbour_wgts = [datadict['weight'] for adj_node, datadict in G[node].items()]\n",
    "        neighbour_pair_wgts = list()\n",
    "        for neigbhour in node_neighbours:\n",
    "            neighbour_pair_wgts.append(edge_wgts[(node, neigbhour)])\n",
    "\n",
    "        # Calculate the transition probability from start node to respective neighbour\n",
    "        elementwise_wgts = np.multiply(self_node_wgt, np.array(neighbour_wgts), np.array(neighbour_pair_wgts))\n",
    "        total_weight = sum(elementwise_wgts)\n",
    "        neighbour_prob = [weight/total_weight for weight in elementwise_wgts]\n",
    "    else:\n",
    "        return ['null'], [0]\n",
    "    return node_neighbours, neighbour_prob\n",
    "\n",
    "def get_nextNode(G, node):\n",
    "    \"\"\" \n",
    "    obtain next node of a given start_node\n",
    "    \"\"\"\n",
    "    neighbour_list, neighbour_prob = get_Weighted_Neighbours(G, node)\n",
    "    if len(neighbour_list)!=0 and neighbour_list[0]!='null':\n",
    "        next_node = random.choices(neighbour_list, neighbour_prob)\n",
    "    else:\n",
    "        next_node = ['null']\n",
    "    return next_node\n",
    "\n",
    "def get_random_walk(graph, node, n_steps):  \n",
    "    \"\"\" \n",
    "    Given a graph, a node and its sentence\n",
    "    return a random walk starting from the node \n",
    "    \"\"\"\n",
    "    local_path = [node]\n",
    "    for i in range(n_steps):\n",
    "        next_node = get_nextNode(graph, node)\n",
    "        if next_node[0] != 'null': # terminate the walk if it hits a signifying terminal node 'null'\n",
    "            local_path.append(next_node[0])\n",
    "            node = next_node[0]\n",
    "        else:\n",
    "            return local_path\n",
    "    return local_path\n"
   ]
  },
  {
   "cell_type": "code",
   "execution_count": 6,
   "id": "283a4d6e",
   "metadata": {},
   "outputs": [],
   "source": [
    "# Collection of functions to calculate Bayes probability\n",
    "def BayesProb(target, conditional, ps):\n",
    "    \"\"\"\n",
    "    Calculate conditional probability\n",
    "    Input:\n",
    "    Target = numerator of the probility function\n",
    "    conditional_on = denominator of the probability function\n",
    "    p = a collection of random walks\n",
    "    Output:\n",
    "    a conditional probability\n",
    "    Note: it doesn't take into consideration of the adjancency of two nodes in counting \n",
    "    the number of occurence\n",
    "    \"\"\"\n",
    "    numerator = 0\n",
    "    denominator = 0\n",
    "    all_elements = target + conditional\n",
    "    print (all_elements, conditional)\n",
    "    for p in ps:\n",
    "        if len(set(all_elements).intersection(set(p)))==len(set(all_elements)):\n",
    "            numerator +=1\n",
    "        if len(set(conditional).intersection(set(p)))==len(set(conditional)):\n",
    "            denominator +=1\n",
    "    print ('Numerator: %i; Denominator: %i' %(numerator, denominator))\n",
    "    if denominator==0:\n",
    "        Pr = 0\n",
    "        print (('Pr(' + str(target) +'|' + str(conditional)+')' + ': %.6f') %(Pr))\n",
    "        return Pr\n",
    "    else:\n",
    "        Pr = numerator/denominator\n",
    "        print (('Pr(' + str(target) +'|' + str(conditional)+')' + ': %.6f') %(Pr))\n",
    "        return Pr\n",
    "    "
   ]
  },
  {
   "cell_type": "markdown",
   "id": "2944fb45",
   "metadata": {},
   "source": [
    "### Preprocessing the raw text "
   ]
  },
  {
   "cell_type": "code",
   "execution_count": 7,
   "id": "a80b0b57",
   "metadata": {},
   "outputs": [
    {
     "name": "stderr",
     "output_type": "stream",
     "text": [
      "2022-10-08 08:27:29 INFO: Loading these models for language: en (English):\n",
      "==========================\n",
      "| Processor | Package    |\n",
      "--------------------------\n",
      "| tokenize  | craft      |\n",
      "| pos       | craft      |\n",
      "| lemma     | craft      |\n",
      "| depparse  | craft      |\n",
      "| ner       | bionlp13cg |\n",
      "==========================\n",
      "\n",
      "2022-10-08 08:27:29 INFO: Use device: cpu\n",
      "2022-10-08 08:27:29 INFO: Loading: tokenize\n",
      "2022-10-08 08:27:29 INFO: Loading: pos\n",
      "2022-10-08 08:27:29 INFO: Loading: lemma\n",
      "2022-10-08 08:27:29 INFO: Loading: depparse\n",
      "2022-10-08 08:27:29 INFO: Loading: ner\n",
      "2022-10-08 08:27:29 INFO: Done loading processors!\n",
      "2022-10-08 08:27:29 INFO: Loading these models for language: en (English):\n",
      "==========================\n",
      "| Processor | Package    |\n",
      "--------------------------\n",
      "| tokenize  | craft      |\n",
      "| pos       | craft      |\n",
      "| lemma     | craft      |\n",
      "| depparse  | craft      |\n",
      "| ner       | bionlp13cg |\n",
      "==========================\n",
      "\n",
      "2022-10-08 08:27:29 INFO: Use device: cpu\n",
      "2022-10-08 08:27:29 INFO: Loading: tokenize\n",
      "2022-10-08 08:27:29 INFO: Loading: pos\n",
      "2022-10-08 08:27:29 INFO: Loading: lemma\n",
      "2022-10-08 08:27:29 INFO: Loading: depparse\n",
      "2022-10-08 08:27:30 INFO: Loading: ner\n",
      "2022-10-08 08:27:30 INFO: Done loading processors!\n",
      "2022-10-08 08:27:32 INFO: Loading these models for language: en (English):\n",
      "==========================\n",
      "| Processor | Package    |\n",
      "--------------------------\n",
      "| tokenize  | craft      |\n",
      "| pos       | craft      |\n",
      "| lemma     | craft      |\n",
      "| depparse  | craft      |\n",
      "| ner       | bionlp13cg |\n",
      "==========================\n",
      "\n",
      "2022-10-08 08:27:32 INFO: Use device: cpu\n",
      "2022-10-08 08:27:32 INFO: Loading: tokenize\n",
      "2022-10-08 08:27:32 INFO: Loading: pos\n",
      "2022-10-08 08:27:32 INFO: Loading: lemma\n",
      "2022-10-08 08:27:32 INFO: Loading: depparse\n",
      "2022-10-08 08:27:32 INFO: Loading: ner\n",
      "2022-10-08 08:27:32 INFO: Done loading processors!\n"
     ]
    },
    {
     "name": "stdout",
     "output_type": "stream",
     "text": [
      "Prev size: 36 Vs. Next size 33\n",
      "Prev size: 33 Vs. Next size 32\n",
      "Prev size: 32 Vs. Next size 32\n",
      "id: 1\tword: In                       \tupos: ADP   \txpos: IN    \thead: contrast       \n",
      "id: 2\tword: contrast                 \tupos: NOUN  \txpos: NN    \thead: activates      \n",
      "id: 3\tword: ,                        \tupos: PUNCT \txpos: ,     \thead: activates      \n",
      "id: 4\tword: the                      \tupos: DET   \txpos: DT    \thead: product        \n",
      "id: 5\tword: product                  \tupos: NOUN  \txpos: NN    \thead: activates      \n",
      "id: 6\tword: of                       \tupos: ADP   \txpos: IN    \thead: CDKN2A beta transcript\n",
      "id: 7\tword: the                      \tupos: DET   \txpos: DT    \thead: CDKN2A beta transcript\n",
      "id: 8\tword: human                    \tupos: ADJ   \txpos: JJ    \thead: CDKN2A beta transcript\n",
      "id: 9\tword: CDKN2A beta transcript   \tupos: NOUN  \txpos: NN    \thead: product        \n",
      "id: 10\tword: ,                        \tupos: PUNCT \txpos: ,     \thead: CDKN2A beta transcript\n",
      "id: 11\tword: p14ARF                   \tupos: NOUN  \txpos: NN    \thead: CDKN2A beta transcript\n",
      "id: 12\tword: ,                        \tupos: PUNCT \txpos: ,     \thead: activates      \n",
      "id: 13\tword: activates                \tupos: VERB  \txpos: VBZ   \thead: root\n",
      "id: 14\tword: a                        \tupos: DET   \txpos: DT    \thead: p53 response   \n",
      "id: 15\tword: p53 response             \tupos: NOUN  \txpos: NN    \thead: manifest       \n",
      "id: 16\tword: manifest                 \tupos: VERB  \txpos: VBP   \thead: activates      \n",
      "id: 17\tword: in                       \tupos: ADP   \txpos: IN    \thead: levels         \n",
      "id: 18\tword: elevated                 \tupos: VERB  \txpos: VBN   \thead: levels         \n",
      "id: 19\tword: levels                   \tupos: NOUN  \txpos: NNS   \thead: manifest       \n",
      "id: 20\tword: of                       \tupos: ADP   \txpos: IN    \thead: MDM2           \n",
      "id: 21\tword: MDM2                     \tupos: NOUN  \txpos: NN    \thead: levels         \n",
      "id: 22\tword: and                      \tupos: CONJ  \txpos: CC    \thead: p21CIP1        \n",
      "id: 23\tword: p21CIP1                  \tupos: NOUN  \txpos: NN    \thead: MDM2           \n",
      "id: 24\tword: and                      \tupos: CONJ  \txpos: CC    \thead: cell cycle arrest\n",
      "id: 25\tword: cell cycle arrest        \tupos: ADJ   \txpos: JJS   \thead: manifest       \n",
      "id: 26\tword: in                       \tupos: ADP   \txpos: IN    \thead: G1             \n",
      "id: 27\tword: both                     \tupos: CONJ  \txpos: CC    \thead: G1             \n",
      "id: 28\tword: G1                       \tupos: NOUN  \txpos: NN    \thead: cell cycle arrest\n",
      "id: 29\tword: and                      \tupos: CONJ  \txpos: CC    \thead: G2             \n",
      "id: 30\tword: G2                       \tupos: NOUN  \txpos: NN    \thead: G1             \n",
      "id: 31\tword: /                        \tupos: PUNCT \txpos: HYPH  \thead: G2             \n",
      "id: 32\tword: M.                       \tupos: PROPN \txpos: NNP   \thead: G1             \n"
     ]
    }
   ],
   "source": [
    "doc = spannerWrapper(sent)\n",
    "printDoc(doc)"
   ]
  },
  {
   "cell_type": "code",
   "execution_count": 8,
   "id": "39745057",
   "metadata": {},
   "outputs": [
    {
     "data": {
      "image/png": "[encoded data removed]",
      "text/plain": [
       "<Figure size 1440x1440 with 1 Axes>"
      ]
     },
     "metadata": {},
     "output_type": "display_data"
    },
    {
     "name": "stdout",
     "output_type": "stream",
     "text": [
      "CPU times: user 700 ms, sys: 811 ms, total: 1.51 s\n",
      "Wall time: 223 ms\n"
     ]
    }
   ],
   "source": [
    "%%time\n",
    "# Construction of a graph that represent the sample sentence\n",
    "G = createTokenDiGraphwithContraction(doc)\n",
    "plot_network(G)"
   ]
  },
  {
   "cell_type": "code",
   "execution_count": 21,
   "id": "5aa91a76",
   "metadata": {},
   "outputs": [
    {
     "data": {
      "text/plain": [
       "False"
      ]
     },
     "execution_count": 21,
     "metadata": {},
     "output_type": "execute_result"
    }
   ],
   "source": [
    "nx.is_directed_acyclic_graph(G)"
   ]
  },
  {
   "cell_type": "code",
   "execution_count": 9,
   "id": "a92789d3",
   "metadata": {},
   "outputs": [
    {
     "data": {
      "text/plain": [
       "[('and', 0.586915745217649),\n",
       " ('G2', 0.3650261801099659),\n",
       " ('p21CIP1', 0.3173651397614822),\n",
       " ('in', 0.28257856179243845),\n",
       " ('cell cycle arrest', 0.2784711240788107),\n",
       " ('both', 0.22858914970284683),\n",
       " ('G1', 0.22731794676147446),\n",
       " ('of', 0.1796160908671824),\n",
       " ('elevated', 0.16715891275379535),\n",
       " ('the', 0.16541643823907878),\n",
       " ('MDM2', 0.12100229083108764),\n",
       " ('human', 0.11662212134605611),\n",
       " ('M.', 0.10190781923525932),\n",
       " ('CDKN2A beta transcript', 0.0947137846588995),\n",
       " ('product', 0.09464073264440051),\n",
       " ('levels', 0.09029072772069356),\n",
       " ('activates', 0.04568576217531113),\n",
       " ('p14ARF', 0.04246251102238868),\n",
       " ('a', 0.03424645171443325),\n",
       " ('manifest', 0.03424645171443325),\n",
       " ('p53 response', 0.030705526408208297),\n",
       " ('contrast', 0.025632657486139673),\n",
       " ('In', 0.011491203766063792)]"
      ]
     },
     "execution_count": 9,
     "metadata": {},
     "output_type": "execute_result"
    }
   ],
   "source": [
    "# the Eigenvalue centrality score of each node\n",
    "centrality = nx.eigenvector_centrality(G)\n",
    "pairs = sorted(centrality.items(), key=lambda x:x[1], reverse=True)\n",
    "pairs\n",
    "# From below result, it is expected those connective words, such as \"and\", will receive high centrality scores.\n",
    "# Since I did not normalise the text to correct the Cap and non-Cap version (i.e. In and in) of words,\n",
    "# they receive different centrality score because, like, \"In\" appears at the begining of the sentence\n",
    "# while \"in\" is in the middle of the sentence connecting different words to form an adjective phrase\n",
    "# of object 'p53 response'. I will ignore the centrality for the time being and use the default status\n",
    "# to see if a random walk model could capture the underlying directed relationship."
   ]
  },
  {
   "cell_type": "markdown",
   "id": "d0c5d7ad",
   "metadata": {},
   "source": [
    "### Random walk transversing the graph "
   ]
  },
  {
   "cell_type": "code",
   "execution_count": 10,
   "id": "d7fa120d",
   "metadata": {},
   "outputs": [
    {
     "data": {
      "text/html": [
       "\n",
       "        <iframe\n",
       "            width=\"900\"\n",
       "            height=\"300\"\n",
       "            src=\"https://en.wikipedia.org/wiki/Random_walk\"\n",
       "            frameborder=\"0\"\n",
       "            allowfullscreen\n",
       "            \n",
       "        ></iframe>\n",
       "        "
      ],
      "text/plain": [
       "<IPython.lib.display.IFrame at 0x2e7648970>"
      ]
     },
     "metadata": {},
     "output_type": "display_data"
    }
   ],
   "source": [
    "# Basically, I follow the practise as documented in the following wiki page\n",
    "# The only difference is the random walk as documented there follows a regular graph.\n",
    "# That means the transition probabolity is symmetric in all direction while this is not true in current case.\n",
    "# But I still go ahead with the approach to analyse the graph structure of this particular construction approach.\n",
    "from IPython.display import IFrame\n",
    "display(IFrame('https://en.wikipedia.org/wiki/Random_walk', 900, 300))"
   ]
  },
  {
   "cell_type": "code",
   "execution_count": 11,
   "id": "2a8d116e",
   "metadata": {},
   "outputs": [
    {
     "name": "stdout",
     "output_type": "stream",
     "text": [
      "CPU times: user 13.4 s, sys: 18.7 ms, total: 13.4 s\n",
      "Wall time: 13.4 s\n"
     ]
    },
    {
     "data": {
      "text/plain": [
       "11500"
      ]
     },
     "execution_count": 11,
     "metadata": {},
     "output_type": "execute_result"
    }
   ],
   "source": [
    "%%time\n",
    "# Collect a batch of random walks generated by this particular graph construction of this sentence\n",
    "rw = []\n",
    "walk_length = len(sent.split(' '))*2\n",
    "for i in range(500): # each node will receive 500 random walks\n",
    "    for node in G.nodes:\n",
    "        ps = get_random_walk(G, node=node, n_steps=walk_length)\n",
    "        rw.append(ps)\n",
    "len(rw)"
   ]
  },
  {
   "cell_type": "code",
   "execution_count": 12,
   "id": "242dbe3e",
   "metadata": {},
   "outputs": [
    {
     "name": "stdout",
     "output_type": "stream",
     "text": [
      "CPU times: user 41.6 ms, sys: 866 µs, total: 42.5 ms\n",
      "Wall time: 42.1 ms\n"
     ]
    }
   ],
   "source": [
    "%%time\n",
    "# collect the frequency of each token transvered\n",
    "dict_data = dict()\n",
    "for node in G.nodes:\n",
    "    dict_data[node] = 0\n",
    "for walk in rw:\n",
    "    for entry in walk:\n",
    "        dict_data[entry] += 1"
   ]
  },
  {
   "cell_type": "code",
   "execution_count": 13,
   "id": "9353ba34",
   "metadata": {},
   "outputs": [
    {
     "data": {
      "image/png": "[encoded data removed]",
      "text/plain": [
       "<Figure size 3600x1440 with 1 Axes>"
      ]
     },
     "metadata": {
      "needs_background": "light"
     },
     "output_type": "display_data"
    }
   ],
   "source": [
    "# Bar diagram to display the frequencies of each token in the random walks\n",
    "# It's apparent that most frequent token 'and' also has the largest eigenvalue.\n",
    "# Surprise is 'In' and 'Contrast' these two tokens also have high frequencies while their corresponding\n",
    "# eigenvalues are bottom two. This might have to do with the eigen_centrality measures does not \n",
    "# provide a good measure of the directionality of a DiGraph.\n",
    "from matplotlib.pyplot import figure\n",
    "fig = figure(figsize=(50, 20))\n",
    "ax = fig.add_axes([0,0,1,1])\n",
    "tokens = list(dict_data.keys())\n",
    "counts = dict_data.values()\n",
    "ax.bar(tokens,counts)\n",
    "plt.show()"
   ]
  },
  {
   "cell_type": "markdown",
   "id": "4b906b0b",
   "metadata": {},
   "source": [
    "### Bayesian Analysis on the conditional probability "
   ]
  },
  {
   "cell_type": "code",
   "execution_count": 14,
   "id": "38ba5bb0",
   "metadata": {},
   "outputs": [
    {
     "name": "stdout",
     "output_type": "stream",
     "text": [
      "['p14ARF', 'CDKN2A beta transcript'] ['CDKN2A beta transcript']\n",
      "Numerator: 4044; Denominator: 6036\n",
      "Pr(['p14ARF']|['CDKN2A beta transcript']): 0.669980\n"
     ]
    },
    {
     "data": {
      "text/plain": [
       "0.6699801192842942"
      ]
     },
     "execution_count": 14,
     "metadata": {},
     "output_type": "execute_result"
    }
   ],
   "source": [
    "# A sample case to demonstrate asymmetry between two entities of interest\n",
    "# Background: CDKN2A has two distinct trancription products. One is p14ARF and the other is p16INK4A\n",
    "# So the likelihood of CDKN2A -> p14ARF will have lower probability because it's one of the two option\n",
    "BayesProb(target=['p14ARF'], conditional=['CDKN2A beta transcript'], ps=rw)"
   ]
  },
  {
   "cell_type": "code",
   "execution_count": 15,
   "id": "0b196d6e",
   "metadata": {},
   "outputs": [
    {
     "name": "stdout",
     "output_type": "stream",
     "text": [
      "['CDKN2A beta transcript', 'p14ARF'] ['p14ARF']\n",
      "Numerator: 4044; Denominator: 4544\n",
      "Pr(['CDKN2A beta transcript']|['p14ARF']): 0.889965\n"
     ]
    },
    {
     "data": {
      "text/plain": [
       "0.8899647887323944"
      ]
     },
     "execution_count": 15,
     "metadata": {},
     "output_type": "execute_result"
    }
   ],
   "source": [
    "# On the other hand, p14ARF can only be found when CDKN2A is expressed as beta trasncript.\n",
    "# There is no other way to happen.  Hence, after accounting the noise (i.e. irrelevant tokens in the sentence),\n",
    "# the likelihood of p14ARF -> CDKN2A should be higher.\n",
    "# And that could be explained by the topology of the sent-graph.  \n",
    "# Node 'CDKN2A beta transcript' has directed egde to token 'p14ARF'. Yet there is no returned edge.\n",
    "# That can be explained as a markov chain: the more options you can move onto from current node, \n",
    "# the lower the transition probility for each next node.\n",
    "BayesProb(target=['CDKN2A beta transcript'], conditional=['p14ARF'], ps=rw)"
   ]
  },
  {
   "cell_type": "markdown",
   "id": "3390b8ef",
   "metadata": {},
   "source": [
    "#### Testing the SVO structure and mediator impact"
   ]
  },
  {
   "cell_type": "code",
   "execution_count": 16,
   "id": "1cf24609",
   "metadata": {
    "scrolled": true
   },
   "outputs": [
    {
     "name": "stdout",
     "output_type": "stream",
     "text": [
      "['MDM2', 'CDKN2A beta transcript'] ['CDKN2A beta transcript']\n",
      "Numerator: 3735; Denominator: 6036\n",
      "Pr(['MDM2']|['CDKN2A beta transcript']): 0.618787\n"
     ]
    },
    {
     "data": {
      "text/plain": [
       "0.6187872763419483"
      ]
     },
     "execution_count": 16,
     "metadata": {},
     "output_type": "execute_result"
    }
   ],
   "source": [
    "# A more complicated example\n",
    "# In biomedical literature, we know CDKN2A expression is associated MDM2 expression.\n",
    "# But we are not sure about the underlying mechanism. Whether any mediator or confounder is controlling the expression\n",
    "# of the two entities.\n",
    "BayesProb(target=['MDM2'], conditional=['CDKN2A beta transcript'], ps=rw)"
   ]
  },
  {
   "cell_type": "code",
   "execution_count": 17,
   "id": "3e302309",
   "metadata": {},
   "outputs": [
    {
     "name": "stdout",
     "output_type": "stream",
     "text": [
      "['MDM2', 'activates', 'CDKN2A beta transcript'] ['activates', 'CDKN2A beta transcript']\n",
      "Numerator: 1929; Denominator: 2461\n",
      "Pr(['MDM2']|['activates', 'CDKN2A beta transcript']): 0.783828\n"
     ]
    },
    {
     "data": {
      "text/plain": [
       "0.7838277123120683"
      ]
     },
     "execution_count": 17,
     "metadata": {},
     "output_type": "execute_result"
    }
   ],
   "source": [
    "BayesProb(target=['MDM2'], conditional=['activates','CDKN2A beta transcript'], ps=rw)"
   ]
  },
  {
   "cell_type": "code",
   "execution_count": 18,
   "id": "bc3227b9",
   "metadata": {},
   "outputs": [
    {
     "name": "stdout",
     "output_type": "stream",
     "text": [
      "['MDM2', 'p53 response', 'activates', 'CDKN2A beta transcript'] ['p53 response', 'activates', 'CDKN2A beta transcript']\n",
      "Numerator: 825; Denominator: 977\n",
      "Pr(['MDM2']|['p53 response', 'activates', 'CDKN2A beta transcript']): 0.844422\n"
     ]
    },
    {
     "data": {
      "text/plain": [
       "0.8444216990788127"
      ]
     },
     "execution_count": 18,
     "metadata": {},
     "output_type": "execute_result"
    }
   ],
   "source": [
    "BayesProb(target=['MDM2'], conditional=['p53 response','activates','CDKN2A beta transcript'], ps=rw)"
   ]
  },
  {
   "cell_type": "raw",
   "id": "b88883c4",
   "metadata": {},
   "source": [
    "If the conjecture aforesaid remains valid, this hierarchical addition/deletion of term(s) would provide us a sense of the information flow direction and, I hypothesize, a way to uncover causal structure.\n",
    "\n",
    "This is one of the many posible ways to analyse a sentence given I only include linear chain and token dependency in the construction of graph.  If other linguistic features of a sentence could be included into the construction of the graph, the probability could be a away to discern a causal relationship between entities."
   ]
  },
  {
   "cell_type": "code",
   "execution_count": null,
   "id": "e86f7004",
   "metadata": {},
   "outputs": [],
   "source": []
  }
 ],
 "metadata": {
  "kernelspec": {
   "display_name": "Python 3 (ipykernel)",
   "language": "python",
   "name": "python3"
  },
  "language_info": {
   "codemirror_mode": {
    "name": "ipython",
    "version": 3
   },
   "file_extension": ".py",
   "mimetype": "text/x-python",
   "name": "python",
   "nbconvert_exporter": "python",
   "pygments_lexer": "ipython3",
   "version": "3.10.5"
  }
 },
 "nbformat": 4,
 "nbformat_minor": 5
}
